{
 "cells": [
  {
   "cell_type": "markdown",
   "id": "bdcf6367",
   "metadata": {
    "id": "bdcf6367"
   },
   "source": [
    "# Prompt Service"
   ]
  },
  {
   "cell_type": "code",
   "execution_count": 1,
   "id": "pSulJj0OuXhk",
   "metadata": {
    "colab": {
     "base_uri": "https://localhost:8080/"
    },
    "id": "pSulJj0OuXhk",
    "outputId": "ec060a2f-5387-4258-c802-2dba8fadc2dd"
   },
   "outputs": [
    {
     "name": "stdout",
     "output_type": "stream",
     "text": [
      "Requirement already satisfied: fastapi in /usr/local/lib/python3.10/dist-packages (0.114.0)\n",
      "Requirement already satisfied: uvicorn in /usr/local/lib/python3.10/dist-packages (0.30.6)\n",
      "Requirement already satisfied: nest-asyncio in /usr/local/lib/python3.10/dist-packages (1.6.0)\n",
      "Requirement already satisfied: starlette<0.39.0,>=0.37.2 in /usr/local/lib/python3.10/dist-packages (from fastapi) (0.38.4)\n",
      "Requirement already satisfied: pydantic!=1.8,!=1.8.1,!=2.0.0,!=2.0.1,!=2.1.0,<3.0.0,>=1.7.4 in /usr/local/lib/python3.10/dist-packages (from fastapi) (2.8.2)\n",
      "Requirement already satisfied: typing-extensions>=4.8.0 in /usr/local/lib/python3.10/dist-packages (from fastapi) (4.12.2)\n",
      "Requirement already satisfied: click>=7.0 in /usr/local/lib/python3.10/dist-packages (from uvicorn) (8.1.7)\n",
      "Requirement already satisfied: h11>=0.8 in /usr/local/lib/python3.10/dist-packages (from uvicorn) (0.14.0)\n",
      "Requirement already satisfied: annotated-types>=0.4.0 in /usr/local/lib/python3.10/dist-packages (from pydantic!=1.8,!=1.8.1,!=2.0.0,!=2.0.1,!=2.1.0,<3.0.0,>=1.7.4->fastapi) (0.7.0)\n",
      "Requirement already satisfied: pydantic-core==2.20.1 in /usr/local/lib/python3.10/dist-packages (from pydantic!=1.8,!=1.8.1,!=2.0.0,!=2.0.1,!=2.1.0,<3.0.0,>=1.7.4->fastapi) (2.20.1)\n",
      "Requirement already satisfied: anyio<5,>=3.4.0 in /usr/local/lib/python3.10/dist-packages (from starlette<0.39.0,>=0.37.2->fastapi) (3.7.1)\n",
      "Requirement already satisfied: idna>=2.8 in /usr/local/lib/python3.10/dist-packages (from anyio<5,>=3.4.0->starlette<0.39.0,>=0.37.2->fastapi) (3.8)\n",
      "Requirement already satisfied: sniffio>=1.1 in /usr/local/lib/python3.10/dist-packages (from anyio<5,>=3.4.0->starlette<0.39.0,>=0.37.2->fastapi) (1.3.1)\n",
      "Requirement already satisfied: exceptiongroup in /usr/local/lib/python3.10/dist-packages (from anyio<5,>=3.4.0->starlette<0.39.0,>=0.37.2->fastapi) (1.2.2)\n"
     ]
    }
   ],
   "source": [
    "!pip install fastapi uvicorn nest-asyncio"
   ]
  },
  {
   "cell_type": "code",
   "execution_count": 2,
   "id": "_w34Ldj9xWZ9",
   "metadata": {
    "colab": {
     "base_uri": "https://localhost:8080/"
    },
    "id": "_w34Ldj9xWZ9",
    "outputId": "ef06f57d-9919-4919-f06b-856b8d96e081"
   },
   "outputs": [
    {
     "name": "stdout",
     "output_type": "stream",
     "text": [
      "Requirement already satisfied: pyngrok in /usr/local/lib/python3.10/dist-packages (7.2.0)\n",
      "Requirement already satisfied: PyYAML>=5.1 in /usr/local/lib/python3.10/dist-packages (from pyngrok) (6.0.2)\n"
     ]
    }
   ],
   "source": [
    "!pip install --upgrade pyngrok"
   ]
  },
  {
   "cell_type": "code",
   "execution_count": 3,
   "id": "aJaIJt0bFPgZ",
   "metadata": {
    "colab": {
     "base_uri": "https://localhost:8080/"
    },
    "id": "aJaIJt0bFPgZ",
    "outputId": "3f947f20-eceb-4569-f89b-8cba6420f9cb"
   },
   "outputs": [
    {
     "name": "stdout",
     "output_type": "stream",
     "text": [
      "Requirement already satisfied: openai in /usr/local/lib/python3.10/dist-packages (1.44.0)\n",
      "Requirement already satisfied: anyio<5,>=3.5.0 in /usr/local/lib/python3.10/dist-packages (from openai) (3.7.1)\n",
      "Requirement already satisfied: distro<2,>=1.7.0 in /usr/lib/python3/dist-packages (from openai) (1.7.0)\n",
      "Requirement already satisfied: httpx<1,>=0.23.0 in /usr/local/lib/python3.10/dist-packages (from openai) (0.27.2)\n",
      "Requirement already satisfied: jiter<1,>=0.4.0 in /usr/local/lib/python3.10/dist-packages (from openai) (0.5.0)\n",
      "Requirement already satisfied: pydantic<3,>=1.9.0 in /usr/local/lib/python3.10/dist-packages (from openai) (2.8.2)\n",
      "Requirement already satisfied: sniffio in /usr/local/lib/python3.10/dist-packages (from openai) (1.3.1)\n",
      "Requirement already satisfied: tqdm>4 in /usr/local/lib/python3.10/dist-packages (from openai) (4.66.5)\n",
      "Requirement already satisfied: typing-extensions<5,>=4.11 in /usr/local/lib/python3.10/dist-packages (from openai) (4.12.2)\n",
      "Requirement already satisfied: idna>=2.8 in /usr/local/lib/python3.10/dist-packages (from anyio<5,>=3.5.0->openai) (3.8)\n",
      "Requirement already satisfied: exceptiongroup in /usr/local/lib/python3.10/dist-packages (from anyio<5,>=3.5.0->openai) (1.2.2)\n",
      "Requirement already satisfied: certifi in /usr/local/lib/python3.10/dist-packages (from httpx<1,>=0.23.0->openai) (2024.8.30)\n",
      "Requirement already satisfied: httpcore==1.* in /usr/local/lib/python3.10/dist-packages (from httpx<1,>=0.23.0->openai) (1.0.5)\n",
      "Requirement already satisfied: h11<0.15,>=0.13 in /usr/local/lib/python3.10/dist-packages (from httpcore==1.*->httpx<1,>=0.23.0->openai) (0.14.0)\n",
      "Requirement already satisfied: annotated-types>=0.4.0 in /usr/local/lib/python3.10/dist-packages (from pydantic<3,>=1.9.0->openai) (0.7.0)\n",
      "Requirement already satisfied: pydantic-core==2.20.1 in /usr/local/lib/python3.10/dist-packages (from pydantic<3,>=1.9.0->openai) (2.20.1)\n"
     ]
    }
   ],
   "source": [
    "!pip install openai"
   ]
  },
  {
   "cell_type": "code",
   "execution_count": 4,
   "id": "tS5wWDMo11CW",
   "metadata": {
    "id": "tS5wWDMo11CW"
   },
   "outputs": [],
   "source": [
    "from pyngrok import ngrok\n",
    "ngrok.set_auth_token(\"2lkokgaV9yas4LTJOzF2N73aROF_6iFCShmMYooSUHgM1eRrQ\")"
   ]
  },
  {
   "cell_type": "code",
   "execution_count": 5,
   "id": "5D1EjwzfFJck",
   "metadata": {
    "id": "5D1EjwzfFJck"
   },
   "outputs": [],
   "source": [
    "!"
   ]
  },
  {
   "cell_type": "code",
   "execution_count": 6,
   "id": "mmQQxUOpujGy",
   "metadata": {
    "id": "mmQQxUOpujGy"
   },
   "outputs": [],
   "source": [
    "from fastapi import FastAPI\n",
    "import nest_asyncio\n",
    "from pyngrok import ngrok\n",
    "import uvicorn\n",
    "import json\n",
    "from openai import OpenAI"
   ]
  },
  {
   "cell_type": "code",
   "execution_count": 7,
   "id": "Gh9ml4cauoIR",
   "metadata": {
    "id": "Gh9ml4cauoIR"
   },
   "outputs": [],
   "source": [
    "app = FastAPI()\n",
    "\n",
    "@app.post(\"/getNearbyConsumables\")\n",
    "async def root(data: dict):\n",
    "  address = data.get(\"address\")\n",
    "  if address is None:\n",
    "    return {\"error\": \"Address not provided\"}\n",
    "  else:\n",
    "    results = process_data(address)\n",
    "    print(results)\n",
    "  return {\"result\": results}"
   ]
  },
  {
   "cell_type": "code",
   "execution_count": 8,
   "id": "ETJ4ma2JAWvg",
   "metadata": {
    "id": "ETJ4ma2JAWvg"
   },
   "outputs": [],
   "source": [
    "def get_nearby_places(location):\n",
    "    client = OpenAI(\n",
    "        api_key=\"\",  # this is also the default, it can be omitted\n",
    "    )\n",
    "    # final_prompt = f\"Provide a list of nearby restaurants, bookstores, and other interesting places to visit near {location} in JSON format. Format the response as a JSON object with keys 'restaurants', 'bookstores', and 'places'. Don't worry about providing real-time information. Just tell me what you know. Also, please make your entire response in json format without any context.\"\n",
    "    final_prompt = f\"Provide a JSON object listing nearby restaurants, bookstores, and other interesting places \" + \\\n",
    "                  f\"to visit near {location}. The object should contain three keys: 'restaurants', 'bookstores', \" + \\\n",
    "                  f\"and 'other places'. Populate each key with a list of examples based on your knowledge. \" + \\\n",
    "                  f\"Do not include any additional text or explanations—just return the JSON object.\\n\\n\" + \\\n",
    "                  f\"To clarify, please do not include the word 'json' before the json object. I really do JUST want the json object.\"\n",
    "    for _ in range(5):\n",
    "        response = client.chat.completions.create(\n",
    "                  model=\"gpt-4o\",\n",
    "                  messages=[\n",
    "                      {\"role\": \"system\", \"content\": \"You are a helpful assistant.\"},\n",
    "                      {\"role\": \"user\", \"content\": final_prompt}\n",
    "                ]\n",
    "              )\n",
    "        content = response.choices[0].message.content\n",
    "        try:\n",
    "            nearby_places = json.loads(content)\n",
    "            return nearby_places\n",
    "        except json.JSONDecodeError:\n",
    "            print(\"Response content is not valid JSON.\")\n",
    "            continue"
   ]
  },
  {
   "cell_type": "code",
   "execution_count": 9,
   "id": "uwE2ZboRwIKq",
   "metadata": {
    "id": "uwE2ZboRwIKq"
   },
   "outputs": [],
   "source": [
    "def process_data(value):\n",
    "  # prompt = f\"I am at : {value}. Please provide me the best restaurants and clothing store around me.\"\n",
    "  # print(prompt)\n",
    "  results = get_nearby_places(value)\n",
    "  return results # example processing: double the value"
   ]
  },
  {
   "cell_type": "code",
   "execution_count": null,
   "id": "ukG9vzttutls",
   "metadata": {
    "colab": {
     "base_uri": "https://localhost:8080/"
    },
    "id": "ukG9vzttutls",
    "outputId": "733187c9-e08f-4b65-e2b2-e1d742c9e436"
   },
   "outputs": [
    {
     "name": "stderr",
     "output_type": "stream",
     "text": [
      "INFO:     Started server process [5340]\n",
      "INFO:     Waiting for application startup.\n",
      "INFO:     Application startup complete.\n",
      "INFO:     Uvicorn running on http://127.0.0.1:8000 (Press CTRL+C to quit)\n"
     ]
    },
    {
     "name": "stdout",
     "output_type": "stream",
     "text": [
      "Public URL: https://febe-34-81-214-97.ngrok-free.app\n",
      "INFO:     3.222.251.165:0 - \"GET / HTTP/1.1\" 404 Not Found\n",
      "{'restaurants': [{'name': \"Carmine's Italian Restaurant\", 'address': '200 W 44th St, New York, NY 10036', 'cuisine': 'Italian'}, {'name': \"Junior's Restaurant & Bakery\", 'address': '1515 Broadway, New York, NY 10036', 'cuisine': 'American'}, {'name': 'The Capital Grille', 'address': '120 W 51st St, New York, NY 10020', 'cuisine': 'Steakhouse'}], 'bookstores': [{'name': 'The Drama Book Shop', 'address': '266 W 39th St, New York, NY 10018'}, {'name': 'bookoff', 'address': '49 W 45th St, New York, NY 10036'}, {'name': 'Kinokuniya New York', 'address': '1073 6th Ave, New York, NY 10018'}], 'other places': [{'name': \"Ripley's Believe It or Not! Times Square\", 'address': '234 W 42nd St, New York, NY 10036', 'type': 'Museum'}, {'name': 'Madame Tussauds New York', 'address': '234 W 42nd St, New York, NY 10036', 'type': 'Museum'}, {'name': 'Bryant Park', 'address': 'New York, NY 10018', 'type': 'Public Park'}]}\n",
      "INFO:     12.94.132.170:0 - \"POST /getNearbyConsumables HTTP/1.1\" 200 OK\n"
     ]
    }
   ],
   "source": [
    "ngrok_tunnel = ngrok.connect(8000)\n",
    "print('Public URL:', ngrok_tunnel.public_url)\n",
    "nest_asyncio.apply()\n",
    "uvicorn.run(app, port=8000)"
   ]
  },
  {
   "cell_type": "code",
   "execution_count": null,
   "id": "80PK55kXFTmN",
   "metadata": {
    "id": "80PK55kXFTmN"
   },
   "outputs": [],
   "source": []
  }
 ],
 "metadata": {
  "colab": {
   "provenance": []
  },
  "kernelspec": {
   "display_name": "Python 3 (ipykernel)",
   "language": "python",
   "name": "python3"
  },
  "language_info": {
   "codemirror_mode": {
    "name": "ipython",
    "version": 3
   },
   "file_extension": ".py",
   "mimetype": "text/x-python",
   "name": "python",
   "nbconvert_exporter": "python",
   "pygments_lexer": "ipython3",
   "version": "3.12.2"
  }
 },
 "nbformat": 4,
 "nbformat_minor": 5
}
