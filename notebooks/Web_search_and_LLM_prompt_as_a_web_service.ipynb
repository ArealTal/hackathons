{
 "cells": [
  {
   "cell_type": "markdown",
   "metadata": {},
   "source": [
    "## Acknowledgments/Authors\n",
    "\n",
    "This notebook was developed collaboratively by Umesh Rawat and Ari Tal. Both contributed to various parts of the content and code."
   ]
  },
  {
   "cell_type": "code",
   "execution_count": 1,
   "metadata": {
    "colab": {
     "base_uri": "https://localhost:8080/"
    },
    "id": "-C5y3xNCwnRE",
    "outputId": "cdca9be3-087e-4d74-8ef1-666ae394e1e2"
   },
   "outputs": [
    {
     "name": "stdout",
     "output_type": "stream",
     "text": [
      "Collecting fastapi\n",
      "  Downloading fastapi-0.114.0-py3-none-any.whl.metadata (27 kB)\n",
      "Collecting uvicorn\n",
      "  Downloading uvicorn-0.30.6-py3-none-any.whl.metadata (6.6 kB)\n",
      "Requirement already satisfied: nest-asyncio in /usr/local/lib/python3.10/dist-packages (1.6.0)\n",
      "Collecting starlette<0.39.0,>=0.37.2 (from fastapi)\n",
      "  Downloading starlette-0.38.4-py3-none-any.whl.metadata (6.0 kB)\n",
      "Requirement already satisfied: pydantic!=1.8,!=1.8.1,!=2.0.0,!=2.0.1,!=2.1.0,<3.0.0,>=1.7.4 in /usr/local/lib/python3.10/dist-packages (from fastapi) (2.8.2)\n",
      "Requirement already satisfied: typing-extensions>=4.8.0 in /usr/local/lib/python3.10/dist-packages (from fastapi) (4.12.2)\n",
      "Requirement already satisfied: click>=7.0 in /usr/local/lib/python3.10/dist-packages (from uvicorn) (8.1.7)\n",
      "Collecting h11>=0.8 (from uvicorn)\n",
      "  Downloading h11-0.14.0-py3-none-any.whl.metadata (8.2 kB)\n",
      "Requirement already satisfied: annotated-types>=0.4.0 in /usr/local/lib/python3.10/dist-packages (from pydantic!=1.8,!=1.8.1,!=2.0.0,!=2.0.1,!=2.1.0,<3.0.0,>=1.7.4->fastapi) (0.7.0)\n",
      "Requirement already satisfied: pydantic-core==2.20.1 in /usr/local/lib/python3.10/dist-packages (from pydantic!=1.8,!=1.8.1,!=2.0.0,!=2.0.1,!=2.1.0,<3.0.0,>=1.7.4->fastapi) (2.20.1)\n",
      "Requirement already satisfied: anyio<5,>=3.4.0 in /usr/local/lib/python3.10/dist-packages (from starlette<0.39.0,>=0.37.2->fastapi) (3.7.1)\n",
      "Requirement already satisfied: idna>=2.8 in /usr/local/lib/python3.10/dist-packages (from anyio<5,>=3.4.0->starlette<0.39.0,>=0.37.2->fastapi) (3.8)\n",
      "Requirement already satisfied: sniffio>=1.1 in /usr/local/lib/python3.10/dist-packages (from anyio<5,>=3.4.0->starlette<0.39.0,>=0.37.2->fastapi) (1.3.1)\n",
      "Requirement already satisfied: exceptiongroup in /usr/local/lib/python3.10/dist-packages (from anyio<5,>=3.4.0->starlette<0.39.0,>=0.37.2->fastapi) (1.2.2)\n",
      "Downloading fastapi-0.114.0-py3-none-any.whl (94 kB)\n",
      "\u001b[2K   \u001b[90m━━━━━━━━━━━━━━━━━━━━━━━━━━━━━━━━━━━━━━━━\u001b[0m \u001b[32m94.0/94.0 kB\u001b[0m \u001b[31m1.8 MB/s\u001b[0m eta \u001b[36m0:00:00\u001b[0m\n",
      "\u001b[?25hDownloading uvicorn-0.30.6-py3-none-any.whl (62 kB)\n",
      "\u001b[2K   \u001b[90m━━━━━━━━━━━━━━━━━━━━━━━━━━━━━━━━━━━━━━━━\u001b[0m \u001b[32m62.8/62.8 kB\u001b[0m \u001b[31m3.0 MB/s\u001b[0m eta \u001b[36m0:00:00\u001b[0m\n",
      "\u001b[?25hDownloading h11-0.14.0-py3-none-any.whl (58 kB)\n",
      "\u001b[2K   \u001b[90m━━━━━━━━━━━━━━━━━━━━━━━━━━━━━━━━━━━━━━━━\u001b[0m \u001b[32m58.3/58.3 kB\u001b[0m \u001b[31m2.7 MB/s\u001b[0m eta \u001b[36m0:00:00\u001b[0m\n",
      "\u001b[?25hDownloading starlette-0.38.4-py3-none-any.whl (71 kB)\n",
      "\u001b[2K   \u001b[90m━━━━━━━━━━━━━━━━━━━━━━━━━━━━━━━━━━━━━━━━\u001b[0m \u001b[32m71.4/71.4 kB\u001b[0m \u001b[31m3.6 MB/s\u001b[0m eta \u001b[36m0:00:00\u001b[0m\n",
      "\u001b[?25hInstalling collected packages: h11, uvicorn, starlette, fastapi\n",
      "Successfully installed fastapi-0.114.0 h11-0.14.0 starlette-0.38.4 uvicorn-0.30.6\n",
      "Collecting openai\n",
      "  Downloading openai-1.44.0-py3-none-any.whl.metadata (22 kB)\n",
      "Requirement already satisfied: anyio<5,>=3.5.0 in /usr/local/lib/python3.10/dist-packages (from openai) (3.7.1)\n",
      "Requirement already satisfied: distro<2,>=1.7.0 in /usr/lib/python3/dist-packages (from openai) (1.7.0)\n",
      "Collecting httpx<1,>=0.23.0 (from openai)\n",
      "  Downloading httpx-0.27.2-py3-none-any.whl.metadata (7.1 kB)\n",
      "Collecting jiter<1,>=0.4.0 (from openai)\n",
      "  Downloading jiter-0.5.0-cp310-cp310-manylinux_2_17_x86_64.manylinux2014_x86_64.whl.metadata (3.6 kB)\n",
      "Requirement already satisfied: pydantic<3,>=1.9.0 in /usr/local/lib/python3.10/dist-packages (from openai) (2.8.2)\n",
      "Requirement already satisfied: sniffio in /usr/local/lib/python3.10/dist-packages (from openai) (1.3.1)\n",
      "Requirement already satisfied: tqdm>4 in /usr/local/lib/python3.10/dist-packages (from openai) (4.66.5)\n",
      "Requirement already satisfied: typing-extensions<5,>=4.11 in /usr/local/lib/python3.10/dist-packages (from openai) (4.12.2)\n",
      "Requirement already satisfied: idna>=2.8 in /usr/local/lib/python3.10/dist-packages (from anyio<5,>=3.5.0->openai) (3.8)\n",
      "Requirement already satisfied: exceptiongroup in /usr/local/lib/python3.10/dist-packages (from anyio<5,>=3.5.0->openai) (1.2.2)\n",
      "Requirement already satisfied: certifi in /usr/local/lib/python3.10/dist-packages (from httpx<1,>=0.23.0->openai) (2024.8.30)\n",
      "Collecting httpcore==1.* (from httpx<1,>=0.23.0->openai)\n",
      "  Downloading httpcore-1.0.5-py3-none-any.whl.metadata (20 kB)\n",
      "Requirement already satisfied: h11<0.15,>=0.13 in /usr/local/lib/python3.10/dist-packages (from httpcore==1.*->httpx<1,>=0.23.0->openai) (0.14.0)\n",
      "Requirement already satisfied: annotated-types>=0.4.0 in /usr/local/lib/python3.10/dist-packages (from pydantic<3,>=1.9.0->openai) (0.7.0)\n",
      "Requirement already satisfied: pydantic-core==2.20.1 in /usr/local/lib/python3.10/dist-packages (from pydantic<3,>=1.9.0->openai) (2.20.1)\n",
      "Downloading openai-1.44.0-py3-none-any.whl (367 kB)\n",
      "\u001b[2K   \u001b[90m━━━━━━━━━━━━━━━━━━━━━━━━━━━━━━━━━━━━━━━━\u001b[0m \u001b[32m367.8/367.8 kB\u001b[0m \u001b[31m7.7 MB/s\u001b[0m eta \u001b[36m0:00:00\u001b[0m\n",
      "\u001b[?25hDownloading httpx-0.27.2-py3-none-any.whl (76 kB)\n",
      "\u001b[2K   \u001b[90m━━━━━━━━━━━━━━━━━━━━━━━━━━━━━━━━━━━━━━━━\u001b[0m \u001b[32m76.4/76.4 kB\u001b[0m \u001b[31m4.0 MB/s\u001b[0m eta \u001b[36m0:00:00\u001b[0m\n",
      "\u001b[?25hDownloading httpcore-1.0.5-py3-none-any.whl (77 kB)\n",
      "\u001b[2K   \u001b[90m━━━━━━━━━━━━━━━━━━━━━━━━━━━━━━━━━━━━━━━━\u001b[0m \u001b[32m77.9/77.9 kB\u001b[0m \u001b[31m4.2 MB/s\u001b[0m eta \u001b[36m0:00:00\u001b[0m\n",
      "\u001b[?25hDownloading jiter-0.5.0-cp310-cp310-manylinux_2_17_x86_64.manylinux2014_x86_64.whl (318 kB)\n",
      "\u001b[2K   \u001b[90m━━━━━━━━━━━━━━━━━━━━━━━━━━━━━━━━━━━━━━━━\u001b[0m \u001b[32m318.9/318.9 kB\u001b[0m \u001b[31m15.8 MB/s\u001b[0m eta \u001b[36m0:00:00\u001b[0m\n",
      "\u001b[?25hInstalling collected packages: jiter, httpcore, httpx, openai\n",
      "Successfully installed httpcore-1.0.5 httpx-0.27.2 jiter-0.5.0 openai-1.44.0\n",
      "Collecting pyngrok\n",
      "  Downloading pyngrok-7.2.0-py3-none-any.whl.metadata (7.4 kB)\n",
      "Requirement already satisfied: PyYAML>=5.1 in /usr/local/lib/python3.10/dist-packages (from pyngrok) (6.0.2)\n",
      "Downloading pyngrok-7.2.0-py3-none-any.whl (22 kB)\n",
      "Installing collected packages: pyngrok\n",
      "Successfully installed pyngrok-7.2.0\n"
     ]
    }
   ],
   "source": [
    "!pip install fastapi uvicorn nest-asyncio\n",
    "!pip install openai\n",
    "!pip install --upgrade pyngrok"
   ]
  },
  {
   "cell_type": "code",
   "execution_count": 2,
   "metadata": {
    "id": "SSunkf9bwuV7"
   },
   "outputs": [],
   "source": [
    "from fastapi import FastAPI\n",
    "import nest_asyncio\n",
    "from pyngrok import ngrok\n",
    "import uvicorn\n",
    "import json\n",
    "from openai import OpenAI\n",
    "import requests\n"
   ]
  },
  {
   "cell_type": "code",
   "execution_count": 3,
   "metadata": {
    "colab": {
     "base_uri": "https://localhost:8080/"
    },
    "id": "4YhTQGAmwsNK",
    "outputId": "83838e2a-5d12-4b5d-f36c-9c5be11c0681"
   },
   "outputs": [
    {
     "name": "stdout",
     "output_type": "stream",
     "text": []
    }
   ],
   "source": [
    "# Tunnel agent api key found here: https://dashboard.ngrok.com/tunnels/authtokens\n",
    "ngrok.set_auth_token(\"\") #Ari's token"
   ]
  },
  {
   "cell_type": "code",
   "execution_count": 4,
   "metadata": {
    "id": "NAxIHXS5w2mh"
   },
   "outputs": [],
   "source": [
    "app = FastAPI()\n",
    "\n",
    "@app.post(\"/getNearbyConsumables\")\n",
    "async def root(data: dict):\n",
    "  address = data.get(\"address\")\n",
    "  if address is None:\n",
    "    return {\"error\": \"Address not provided\"}\n",
    "  else:\n",
    "    results = process_data(address)\n",
    "    print(results)\n",
    "  return {\"result\": results}"
   ]
  },
  {
   "cell_type": "code",
   "execution_count": 14,
   "metadata": {
    "id": "emZIviFcv-UB"
   },
   "outputs": [],
   "source": [
    "\n",
    "\n",
    "\n",
    "\n",
    "def get_ai_snippets_for_query(query):\n",
    "    # api key found here: https://api.you.com/api-key\n",
    "    my_api_key = ''\n",
    "    headers = {\"X-API-Key\": my_api_key}\n",
    "    params = {\"query\": query}\n",
    "    return requests.get(\n",
    "        f\"https://api.ydc-index.io/search\",\n",
    "        params=params,\n",
    "        headers=headers,\n",
    "    ).json()\n",
    "\n",
    "def do_queries(location=\"565 Market St. San Francisco, CA 94105\"):\n",
    "    '''\n",
    "        Input: location (string)\n",
    "        Description: Does 3 web searches: one for nearby restaurants, one for nearby bookstores,\n",
    "        and one for nearby fun places.\n",
    "        Returns the results of each search.\n",
    "\n",
    "        Output: results_restaurants, results_bookstores, results_places\n",
    "    '''\n",
    "    temp_prompt_restaurants = f\"Find restaurants near {location}\"\n",
    "    results_restaurants = get_ai_snippets_for_query(temp_prompt_restaurants)\n",
    "\n",
    "    temp_prompt_bookstores = f\"Find bookstores near {location}\"\n",
    "    results_bookstores = get_ai_snippets_for_query(temp_prompt_bookstores)\n",
    "\n",
    "    temp_prompt_places = f\"Find fun places near {location}\"\n",
    "    results_places = get_ai_snippets_for_query(temp_prompt_places)\n",
    "    return results_restaurants, results_bookstores, results_places\n",
    "\n",
    "\n",
    "def get_nearby_places(data_restaurants, data_bookstores, data_other):\n",
    "    # Open AI API key can be found here: https://platform.openai.com/api-keys\n",
    "    client = OpenAI(\n",
    "        api_key=\"\",  # this is also the default, it can be omitted\n",
    "    )\n",
    "    # final_prompt = f\"Provide a list of nearby restaurants, bookstores, and other interesting places to visit near {location} in JSON format. Format the response as a JSON object with keys 'restaurants', 'bookstores', and 'places'. Don't worry about providing real-time information. Just tell me what you know. Also, please make your entire response in json format without any context.\"\n",
    "    final_prompt = f\"I did a web search to find nearby retaurants. It is in a wierd format: ```\\n{data_restaurants}\\n```\\n\\n\" + \\\n",
    "                   f\"I did a web search to find nearby bookstores. It is in a wierd format: ```\\n{data_bookstores}\\n```\\n\\n\" + \\\n",
    "                   f\"I did a web search to find nearby fun other places. It is in a wierd format: ```\\n{data_other}\\n```\\n\\n\" + \\\n",
    "                   f\"Please use this information to provide a JSON object listing nearby restaurants, bookstores, and other interesting places \" + \\\n",
    "                   f\"to visit. The object should contain three keys: 'restaurants', 'bookstores', \" + \\\n",
    "                   f\"and 'other_places'. Populate each key with a list of examples based on your knowledge. \" + \\\n",
    "                   f\"Each example should include a name, an address, a url, and a description. Rewrite the description to be fanciful.\\n\\n\" + \\\n",
    "                   f\"Do not include any additional text or explanations—just return the JSON object.\\n\\n\" + \\\n",
    "                   f\"To clarify, please do not include the word 'json' before the json object. I really do JUST want the json object.\"\n",
    "    for _ in range(5):\n",
    "        response = client.chat.completions.create(\n",
    "                  model=\"gpt-4o\",\n",
    "                  messages=[\n",
    "                      {\"role\": \"system\", \"content\": \"You are a helpful assistant.\"},\n",
    "                      {\"role\": \"user\", \"content\": final_prompt}\n",
    "                ]\n",
    "              )\n",
    "        content = response.choices[0].message.content\n",
    "        try:\n",
    "            nearby_places = json.loads(content)\n",
    "            return nearby_places\n",
    "        except json.JSONDecodeError:\n",
    "            print(\"Response content is not valid JSON.\")\n",
    "            continue\n",
    "\n"
   ]
  },
  {
   "cell_type": "code",
   "execution_count": 17,
   "metadata": {
    "id": "HM8dSJWGv_Dh"
   },
   "outputs": [],
   "source": [
    "def process_data(value):\n",
    "  # prompt = f\"I am at : {value}. Please provide me the best restaurants and clothing store around me.\"\n",
    "  # print(prompt)\n",
    "\n",
    "  results_restaurants, results_bookstores, results_places = do_queries(location=value)\n",
    "  nearby_places = get_nearby_places(results_restaurants['hits'][:10], results_bookstores['hits'][:10], results_places['hits'][:10])\n",
    "\n",
    "  return nearby_places # example processing: double the value"
   ]
  },
  {
   "cell_type": "code",
   "execution_count": null,
   "metadata": {
    "colab": {
     "base_uri": "https://localhost:8080/"
    },
    "id": "VT_mUMBbxos4",
    "outputId": "2e8c5ad2-ad38-4a4d-d846-4e8daa973f4e"
   },
   "outputs": [
    {
     "name": "stderr",
     "output_type": "stream",
     "text": [
      "INFO:     Started server process [1224]\n",
      "INFO:     Waiting for application startup.\n",
      "INFO:     Application startup complete.\n",
      "INFO:     Uvicorn running on http://127.0.0.1:8095 (Press CTRL+C to quit)\n"
     ]
    },
    {
     "name": "stdout",
     "output_type": "stream",
     "text": [
      "Public URL: https://739f-35-237-197-153.ngrok-free.app\n",
      "INFO:     3.88.217.234:0 - \"GET / HTTP/1.1\" 404 Not Found\n",
      "{'restaurants': [{'name': 'Prospect', 'address': '300 Spear St, San Francisco, CA 94105', 'url': 'https://www.opentable.com/prospect', 'description': 'Prospect is a casual elegant American eatery where modern cuisine meets relaxed sophistication. Book a table to savor delectable dishes amidst chic surroundings.'}], 'bookstores': [{'name': 'City Lights Booksellers & Publishers', 'address': '261 Columbus Ave, San Francisco, CA 94133', 'url': 'https://www.citylights.com/', 'description': 'City Lights is a historic literary haven where book lovers can lose themselves among endless shelves of fascinating reads and immerse in the spirit of literary enlightenment.'}, {'name': 'Green Apple Books', 'address': '506 Clement St, San Francisco, CA 94118', 'url': 'https://www.greenapplebooks.com/', 'description': 'Green Apple Books is a charming and eclectic bookstore offering a plethora of new, used, and rare books, nestled in the cozy neighborhoods of San Francisco.'}], 'other_places': [{'name': 'Exploratorium', 'address': 'Pier 15, The Embarcadero, San Francisco, CA 94111', 'url': 'https://www.exploratorium.edu/', 'description': 'The Exploratorium is a wondrous museum where science comes to life through interactive exhibits, fostering an environment of discovery and imagination for visitors of all ages.'}, {'name': 'San Francisco Museum of Modern Art (SFMOMA)', 'address': '151 3rd St, San Francisco, CA 94103', 'url': 'https://www.sfmoma.org/', 'description': 'SFMOMA is a modern art paradise showcasing an extensive collection of contemporary masterpieces. Wander through its galleries to ignite your creative spirit.'}]}\n",
      "INFO:     12.94.132.170:0 - \"POST /getNearbyConsumables HTTP/1.1\" 200 OK\n",
      "{'restaurants': [{'name': 'Prospect', 'address': '300 Spear St, San Francisco, CA 94105', 'url': 'https://www.opentable.com/prospect', 'description': 'Prospect offers an upscale yet welcoming atmosphere where a combination of contemporary American cuisine and elegant decor makes every meal unforgettable.'}], 'bookstores': [{'name': 'City Lights Booksellers & Publishers', 'address': '261 Columbus Ave, San Francisco, CA 94133', 'url': 'https://www.citylights.com', 'description': 'A historic and iconic bookstore that promises a journey through the classics and contemporary literature, nestled in the heart of North Beach.'}], 'other_places': [{'name': 'WeWork | 535 Mission St', 'address': '535 Mission St, San Francisco, CA 94105', 'url': 'https://liquidspace.com/us/ca/san-francisco/wework-transbay', 'description': 'With panoramic views of the bay and skyline, this coworking space merges productivity and relaxation in the heart of the Financial District.'}]}\n",
      "INFO:     2605:4c40:100:514a:0:a2ef:304d:1:0 - \"POST /getNearbyConsumables HTTP/1.1\" 200 OK\n",
      "{'restaurants': [{'name': 'Prospect', 'address': '300 Spear St, San Francisco, CA 94105', 'url': 'https://www.opentable.com/prospect', 'description': 'Indulge in a symphony of Contemporary American flavors at Prospect, an elegant dining haven. Perfect for business lunches, dinners, or a delightful rendezvous.'}], 'bookstores': [{'name': 'City Lights Booksellers & Publishers', 'address': '261 Columbus Ave, San Francisco, CA 94133', 'url': 'https://www.citylights.com/', 'description': 'Step into a literary wonderland at City Lights, the iconic bookstore that continues to enchant with its diverse collection and rich history.'}, {'name': 'Green Apple Books', 'address': '506 Clement St, San Francisco, CA 94118', 'url': 'https://www.greenapplebooks.com/', 'description': 'Lose yourself in the charming aisles of Green Apple Books, where new and used treasures await discovery on every shelf.'}], 'other_places': [{'name': 'WeWork | 535 Mission St', 'address': '535 Mission St, San Francisco, CA 94105', 'url': 'https://liquidspace.com/us/ca/san-francisco/wework-transbay', 'description': 'Elevate your productivity in the vibrant and sunlit WeWork at 535 Mission St. Bask in stunning city views while enjoying top-tier amenities.'}, {'name': 'Exploratorium', 'address': 'Pier 15, The Embarcadero, San Francisco, CA 94111', 'url': 'https://www.exploratorium.edu/', 'description': 'Dive into hands-on science adventures at the Exploratorium, where curiosity reigns and every exhibit sparks wonder.'}, {'name': 'San Francisco Museum of Modern Art (SFMOMA)', 'address': '151 3rd St, San Francisco, CA 94103', 'url': 'https://www.sfmoma.org/', 'description': 'Immerse yourself in the world of contemporary art at SFMOMA, a sanctuary of creative innovation and visual brilliance.'}]}\n",
      "INFO:     2605:4c40:100:514a:0:a2ef:304d:1:0 - \"POST /getNearbyConsumables HTTP/1.1\" 200 OK\n",
      "{'restaurants': [{'name': 'Chipotle', 'address': '525 Market St San Francisco, CA 94105', 'url': 'https://chipotle.com', 'description': 'Embark on a flavor-packed journey where bold burritos meet sizzling spices. A haven for those craving a quick yet delectable culinary escape.'}, {'name': 'Joe & The Juice', 'address': '525 Market St San Francisco, CA 94105', 'url': 'https://joejuice.com', 'description': 'Dive into an enchanting world of fresh juices and energizing smoothies. A perfect pitstop for the health-conscious gastronome on the move.'}, {'name': 'Proper Food', 'address': '525 Market St San Francisco, CA 94105', 'url': 'https://properfood.com', 'description': 'Treat yourself to a symphony of wholesome, handcrafted meals. Every dish is a balanced masterpiece designed to delight and nourish.'}], 'bookstores': [{'name': 'City Lights Booksellers & Publishers', 'address': '261 Columbus Ave, San Francisco, CA 94133', 'url': 'https://citylights.com', 'description': 'Wander through a literary utopia where the spirit of the Beat Generation thrives. An iconic sanctuary for free thinkers and book lovers alike.'}, {'name': 'Green Apple Books', 'address': '506 Clement St, San Francisco, CA 94118', 'url': 'https://greenapplebooks.com', 'description': 'Step into a whimsical wonderland of words, where every shelf is a portal to new adventures and timeless stories.'}, {'name': 'The Booksmith', 'address': '1644 Haight St, San Francisco, CA 94117', 'url': 'https://booksmith.com', 'description': 'Nestled in the heart of Haight-Ashbury, this quaint treasure trove invites you to lose yourself in a labyrinth of literary riches.'}], 'other_places': [{'name': 'Salesforce Transit Center', 'address': '425 Mission St, San Francisco, CA 94105', 'url': 'https://salesforcetransitcenter.com', 'description': 'A futuristic marvel where gardens float above the bustling streets. Explore soaring walkways and serene rooftop parks in this urban oasis.'}, {'name': 'Oracle Park', 'address': '24 Willie Mays Plaza, San Francisco, CA 94107', 'url': 'https://mlb.com/giants/ballpark', 'description': 'Home of the San Francisco Giants, this epic arena is a playground for sports enthusiasts and a shrine to baseball greatness.'}, {'name': 'Exploratorium', 'address': 'Pier 15, The Embarcadero, San Francisco, CA 94111', 'url': 'https://exploratorium.edu', 'description': 'A playful paradise where science and art intertwine. Immerse yourself in interactive exhibits that spark curiosity and ignite the imagination.'}]}\n",
      "INFO:     2605:4c40:100:514a:0:a2ef:304d:1:0 - \"POST /getNearbyConsumables HTTP/1.1\" 200 OK\n",
      "{'restaurants': [{'name': 'Chipotle', 'address': '525 Market St San Francisco, CA 94105', 'url': 'https://www.chipotle.com', 'description': \"Indulge in the symphony of flavors with Chipotle's celebrated burritos and bowls as you sit beneath the sun-drenched umbrellas at 525 Market St.\"}, {'name': 'Joe & The Juice', 'address': '525 Market St San Francisco, CA 94105', 'url': 'https://www.joejuice.com', 'description': 'Sip on vibrant juices and energizing coffees at Joe & The Juice, where every drink comes with a touch of magic and a dash of delight.'}, {'name': 'Proper Food', 'address': '525 Market St San Francisco, CA 94105', 'url': 'https://www.properfood.com', 'description': 'Relish the fresh and light offerings at Proper Food, a realm of wholesome meals that nourish the soul and lift the spirits.'}], 'bookstores': [{'name': 'City Lights Booksellers & Publishers', 'address': '261 Columbus Ave, San Francisco, CA 94133', 'url': 'https://www.citylights.com', 'description': 'Wander through the shelves of history and whimsy at City Lights, a beacon for book lovers and seekers of literary treasures.'}, {'name': 'Green Apple Books', 'address': '506 Clement St, San Francisco, CA 94118', 'url': 'https://www.greenapplebooks.com', 'description': 'Step into a world of endless stories and hidden gems at Green Apple Books, where each turn of the page leads to a new adventure.'}, {'name': 'The Booksmith', 'address': '1644 Haight St, San Francisco, CA 94117', 'url': 'https://www.booksmith.com', 'description': 'Explore the enchanting aisles of The Booksmith, where the air is filled with the scent of new tales and the promise of discovery.'}], 'other_places': [{'name': 'Salesforce Transit Center', 'address': '425 Mission St, San Francisco, CA 94105', 'url': 'https://salesforcetransitcenter.com', 'description': 'Marvel at the futuristic architecture and rooftop park at Salesforce Transit Center, a hub of innovation and tranquility.'}, {'name': 'Oracle Park', 'address': '24 Willie Mays Plaza, San Francisco, CA 94107', 'url': 'https://www.mlb.com/giants/ballpark', 'description': \"Immerse yourself in the excitement of America's favorite pastime at Oracle Park, where giants roam and home runs soar.\"}, {'name': 'Yerba Buena Gardens', 'address': '750 Howard St, San Francisco, CA 94103', 'url': 'https://yerbabuenagardens.com', 'description': 'Stroll through the lush landscapes and serene spaces of Yerba Buena Gardens, a sanctuary in the heart of the bustling city.'}]}\n",
      "INFO:     2605:4c40:100:514a:0:a2ef:304d:1:0 - \"POST /getNearbyConsumables HTTP/1.1\" 200 OK\n"
     ]
    }
   ],
   "source": [
    "ngrok_tunnel = ngrok.connect(8095)\n",
    "print('Public URL:', ngrok_tunnel.public_url)\n",
    "nest_asyncio.apply()\n",
    "uvicorn.run(app, port=8095)"
   ]
  },
  {
   "cell_type": "code",
   "execution_count": null,
   "metadata": {
    "id": "X1gBUrPCz3n-"
   },
   "outputs": [],
   "source": []
  }
 ],
 "metadata": {
  "colab": {
   "provenance": []
  },
  "kernelspec": {
   "display_name": "Python 3 (ipykernel)",
   "language": "python",
   "name": "python3"
  },
  "language_info": {
   "codemirror_mode": {
    "name": "ipython",
    "version": 3
   },
   "file_extension": ".py",
   "mimetype": "text/x-python",
   "name": "python",
   "nbconvert_exporter": "python",
   "pygments_lexer": "ipython3",
   "version": "3.12.2"
  }
 },
 "nbformat": 4,
 "nbformat_minor": 4
}
